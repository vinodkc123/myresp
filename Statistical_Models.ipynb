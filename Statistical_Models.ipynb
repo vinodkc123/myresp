{
  "nbformat": 4,
  "nbformat_minor": 0,
  "metadata": {
    "colab": {
      "provenance": [],
      "include_colab_link": true
    },
    "kernelspec": {
      "name": "python3",
      "display_name": "Python 3"
    },
    "language_info": {
      "name": "python"
    }
  },
  "cells": [
    {
      "cell_type": "markdown",
      "metadata": {
        "id": "view-in-github",
        "colab_type": "text"
      },
      "source": [
        "<a href=\"https://colab.research.google.com/github/vinodkc123/myresp/blob/master/Statistical_Models.ipynb\" target=\"_parent\"><img src=\"https://colab.research.google.com/assets/colab-badge.svg\" alt=\"Open In Colab\"/></a>"
      ]
    },
    {
      "cell_type": "code",
      "source": [
        "import numpy\n",
        "\n",
        "speed = [99,86,87,88,111,86,103,87,94,78,77,85,86]\n",
        "\n",
        "x = numpy.mean(speed)\n",
        "\n",
        "print(x)"
      ],
      "metadata": {
        "colab": {
          "base_uri": "https://localhost:8080/"
        },
        "id": "QygWcoSmquUz",
        "outputId": "97b6fe4c-fd8b-489c-81d3-188594f7c1ca"
      },
      "execution_count": null,
      "outputs": [
        {
          "output_type": "stream",
          "name": "stdout",
          "text": [
            "89.76923076923077\n"
          ]
        }
      ]
    },
    {
      "cell_type": "markdown",
      "source": [],
      "metadata": {
        "id": "i-5A92MJRN-_"
      }
    },
    {
      "cell_type": "code",
      "source": [
        "import numpy\n",
        "\n",
        "speed = [99,86,87,88,111,86,103,87,94,78,77,85,86]\n",
        "\n",
        "x = numpy.median(speed)\n",
        "\n",
        "print(x)"
      ],
      "metadata": {
        "id": "thtm09FQROYW",
        "colab": {
          "base_uri": "https://localhost:8080/"
        },
        "outputId": "559f03ad-a3c8-447b-c0a9-fdd577d43c0b"
      },
      "execution_count": null,
      "outputs": [
        {
          "output_type": "stream",
          "name": "stdout",
          "text": [
            "87.0\n"
          ]
        }
      ]
    },
    {
      "cell_type": "code",
      "source": [
        "from scipy import stats\n",
        "\n",
        "speed = [99,86,87,88,111,86,103,87,94,78,77,85,86]\n",
        "\n",
        "x = stats.mode(speed)\n",
        "\n",
        "print(x)"
      ],
      "metadata": {
        "id": "p3mIoyD9aGo8",
        "outputId": "8eccfdb9-0912-4437-9ee0-c17ab32bdf89",
        "colab": {
          "base_uri": "https://localhost:8080/"
        }
      },
      "execution_count": 1,
      "outputs": [
        {
          "output_type": "stream",
          "name": "stdout",
          "text": [
            "ModeResult(mode=array([86]), count=array([3]))\n"
          ]
        }
      ]
    }
  ]
}